{
 "cells": [
  {
   "cell_type": "code",
   "execution_count": 1,
   "id": "13a00490-2033-436c-b77b-b43e7e24e271",
   "metadata": {},
   "outputs": [],
   "source": [
    "import pandas as pd\n",
    "import torch\n",
    "from torch.utils.data import Dataset, DataLoader\n",
    "from sklearn.model_selection import train_test_split\n",
    "from sklearn.preprocessing import OneHotEncoder, StandardScaler, LabelEncoder, MinMaxScaler\n",
    "import torch.nn as nn\n",
    "import torch.optim as optim\n",
    "import matplotlib.pyplot as plt\n",
    "import numpy as np"
   ]
  },
  {
   "cell_type": "code",
   "execution_count": 2,
   "id": "dc3cf053-4a8c-4bec-ad2e-80ccca310a0c",
   "metadata": {},
   "outputs": [],
   "source": [
    "# Читаем данные\n",
    "df = pd.read_csv('/Users/admin/Desktop/AI/NY-House-Dataset.csv')\n",
    "\n",
    "# Целевая переменная\n",
    "y = df['PRICE']\n",
    "\n",
    "# Выберем признаки, которые мы хотим оставить для обучения\n",
    "columns_to_keep = ['BEDS', 'BATH', 'PROPERTYSQFT', 'STATE', 'LOCALITY', 'SUBLOCALITY']\n",
    "X = df[columns_to_keep].copy()"
   ]
  },
  {
   "cell_type": "code",
   "execution_count": 3,
   "id": "324c35d8-9400-4c83-85d6-2f4c7698f8ef",
   "metadata": {},
   "outputs": [
    {
     "name": "stdout",
     "output_type": "stream",
     "text": [
      "Пропуски в данных:\n",
      "BEDS            0\n",
      "BATH            0\n",
      "PROPERTYSQFT    0\n",
      "STATE           0\n",
      "LOCALITY        0\n",
      "SUBLOCALITY     0\n",
      "dtype: int64\n"
     ]
    }
   ],
   "source": [
    "# Проверим пропуски\n",
    "print(\"Пропуски в данных:\")\n",
    "print(X.isnull().sum())"
   ]
  },
  {
   "cell_type": "code",
   "execution_count": 4,
   "id": "cf17b363-36e7-484d-aca7-8788bf547523",
   "metadata": {},
   "outputs": [
    {
     "name": "stdout",
     "output_type": "stream",
     "text": [
      "Размер обучающей выборки: (3840, 340) Целевая переменная: (3840,)\n",
      "Размер тестовой выборки: (961, 340) Целевая переменная: (961,)\n"
     ]
    }
   ],
   "source": [
    "# Кодируем категориальные признаки\n",
    "categorical_columns = ['STATE', 'LOCALITY', 'SUBLOCALITY']\n",
    "X = pd.get_dummies(X, columns=categorical_columns, drop_first=True)\n",
    "\n",
    "# Разделяем на тренировочную и тестовую выборки\n",
    "X_train, X_test, y_train, y_test = train_test_split(X, y, test_size=0.2, random_state=42)\n",
    "\n",
    "print(\"Размер обучающей выборки:\", X_train.shape, \"Целевая переменная:\", y_train.shape)\n",
    "print(\"Размер тестовой выборки:\", X_test.shape, \"Целевая переменная:\", y_test.shape)"
   ]
  },
  {
   "cell_type": "code",
   "execution_count": 5,
   "id": "a598c5c1-c357-473d-a7cd-dbd7af5d918a",
   "metadata": {},
   "outputs": [],
   "source": [
    "# Нормализация численных признаков (BEDS, BATH, PROPERTYSQFT)\n",
    "# Определим числовые признаки:\n",
    "numeric_columns = ['BEDS', 'BATH', 'PROPERTYSQFT'] \n",
    "scaler = StandardScaler()\n",
    "X_train[numeric_columns] = scaler.fit_transform(X_train[numeric_columns])\n",
    "X_test[numeric_columns] = scaler.transform(X_test[numeric_columns])"
   ]
  },
  {
   "cell_type": "code",
   "execution_count": 6,
   "id": "64d9d6d9-243d-4eb0-b8a3-bd9863a0c3e2",
   "metadata": {},
   "outputs": [
    {
     "name": "stdout",
     "output_type": "stream",
     "text": [
      "BEDS                           float64\n",
      "BATH                           float64\n",
      "PROPERTYSQFT                   float64\n",
      "STATE_Astoria, NY 11101           bool\n",
      "STATE_Astoria, NY 11102           bool\n",
      "                                ...   \n",
      "SUBLOCALITY_Richmond County       bool\n",
      "SUBLOCALITY_Riverdale             bool\n",
      "SUBLOCALITY_Snyder Avenue         bool\n",
      "SUBLOCALITY_Staten Island         bool\n",
      "SUBLOCALITY_The Bronx             bool\n",
      "Length: 340, dtype: object\n"
     ]
    }
   ],
   "source": [
    "print(X_train.dtypes)"
   ]
  },
  {
   "cell_type": "code",
   "execution_count": 7,
   "id": "f5853405-92e4-41cd-9322-fae4252594db",
   "metadata": {},
   "outputs": [],
   "source": [
    "# Преобразуем наши данные в тензоры\n",
    "# наши признаки в X_train и X_test - это DataFrame, который можно сразу преобразовать в тензор.\n",
    "\n",
    "class MyDataset(Dataset):\n",
    "    def __init__(self, X, y):\n",
    "        # X - DataFrame или numpy array, y - Series или массив\n",
    "        self.X = torch.tensor(X.values, dtype=torch.float32)\n",
    "        self.y = torch.tensor(y.values, dtype=torch.float32).unsqueeze(1)\n",
    "\n",
    "    def __len__(self):\n",
    "        return len(self.X)\n",
    "\n",
    "    def __getitem__(self, index):\n",
    "        return self.X[index], self.y[index]\n",
    "\n",
    "\n",
    "    def __len__(self):\n",
    "        return len(self.X)\n",
    "\n",
    "    def __getitem__(self, index):\n",
    "        return self.X[index], self.y[index]\n",
    "\n",
    "X_train = X_train.astype('float32')\n",
    "X_test = X_test.astype('float32')\n",
    "y_train_log = np.log1p(y_train)\n",
    "y_test_log = np.log1p(y_test)\n",
    "\n",
    "\n",
    "train_dataset = MyDataset(X_train, y_train_log)\n",
    "test_dataset = MyDataset(X_test, y_test_log)\n",
    "\n",
    "train_dataloader = DataLoader(train_dataset, batch_size=64, shuffle=True)\n",
    "test_dataloader = DataLoader(test_dataset, batch_size=64, shuffle=False)"
   ]
  },
  {
   "cell_type": "code",
   "execution_count": 8,
   "id": "b0ee57a9-3e16-48a2-a97b-5e2ac5928216",
   "metadata": {},
   "outputs": [
    {
     "name": "stdout",
     "output_type": "stream",
     "text": [
      "Эпоха [10/100], Loss: 136.7375\n",
      "Эпоха [20/100], Loss: 91.1427\n",
      "Эпоха [30/100], Loss: 64.2943\n",
      "Эпоха [40/100], Loss: 45.9829\n",
      "Эпоха [50/100], Loss: 31.7082\n",
      "Эпоха [60/100], Loss: 25.9466\n",
      "Эпоха [70/100], Loss: 17.0612\n",
      "Эпоха [80/100], Loss: 14.5158\n",
      "Эпоха [90/100], Loss: 11.8017\n",
      "Эпоха [100/100], Loss: 6.5054\n",
      "Обучение SimpleNet завершено\n"
     ]
    }
   ],
   "source": [
    "# Определим простую модель (однослойную)\n",
    "class SimpleNet(nn.Module):\n",
    "    def __init__(self, input_size, output_size):\n",
    "        super(SimpleNet, self).__init__()\n",
    "        self.fc = nn.Linear(input_size, output_size)\n",
    "\n",
    "    def forward(self, x):\n",
    "        return self.fc(x)\n",
    "\n",
    "input_size = X_train.shape[1]\n",
    "output_size = 1\n",
    "\n",
    "model_SimpleNet = SimpleNet(input_size, output_size)\n",
    "criterion = nn.MSELoss()\n",
    "optimizer = optim.SGD(model_SimpleNet.parameters(), lr=0.0001)\n",
    "\n",
    "num_epochs = 100\n",
    "for epoch in range(num_epochs):\n",
    "    model_SimpleNet.train()\n",
    "    for inputs, targets in train_dataloader:\n",
    "        optimizer.zero_grad()\n",
    "        outputs = model_SimpleNet(inputs)\n",
    "        loss = criterion(outputs, targets)\n",
    "        loss.backward()\n",
    "        optimizer.step()\n",
    "    if (epoch+1) % 10 == 0:\n",
    "        print(f'Эпоха [{epoch+1}/{num_epochs}], Loss: {loss.item():.4f}')\n",
    "print(\"Обучение SimpleNet завершено\")"
   ]
  },
  {
   "cell_type": "code",
   "execution_count": 9,
   "id": "9e57a5f2-e2a7-4d98-b999-9647608df84d",
   "metadata": {},
   "outputs": [
    {
     "name": "stdout",
     "output_type": "stream",
     "text": [
      "Эпоха [10/100], Loss: 152.9000\n",
      "Эпоха [20/100], Loss: 82.0274\n",
      "Эпоха [30/100], Loss: 30.3973\n",
      "Эпоха [40/100], Loss: 7.9608\n",
      "Эпоха [50/100], Loss: 1.9193\n",
      "Эпоха [60/100], Loss: 1.6594\n",
      "Эпоха [70/100], Loss: 1.1084\n",
      "Эпоха [80/100], Loss: 0.8607\n",
      "Эпоха [90/100], Loss: 0.7267\n",
      "Эпоха [100/100], Loss: 0.3571\n",
      "Обучение NeuralNetwork завершено\n"
     ]
    }
   ],
   "source": [
    "# Модель с одним скрытым слоем (Adam)\n",
    "class NeuralNetwork(nn.Module):\n",
    "    def __init__(self, input_size, hidden_size, output_size):\n",
    "        super(NeuralNetwork, self).__init__()\n",
    "        self.hidden = nn.Linear(input_size, hidden_size)\n",
    "        self.relu = nn.ReLU()\n",
    "        self.output = nn.Linear(hidden_size, output_size)\n",
    "\n",
    "    def forward(self, x):\n",
    "        x = self.hidden(x)\n",
    "        x = self.relu(x)\n",
    "        x = self.output(x)\n",
    "        return x\n",
    "\n",
    "model_NeuralNetwork = NeuralNetwork(input_size, 64, output_size)\n",
    "optimizer = optim.Adam(model_NeuralNetwork.parameters(), lr=0.0001)\n",
    "criterion = nn.MSELoss()\n",
    "\n",
    "for epoch in range(num_epochs):\n",
    "    model_NeuralNetwork.train()\n",
    "    for inputs, targets in train_dataloader:\n",
    "        optimizer.zero_grad()\n",
    "        outputs = model_NeuralNetwork(inputs)\n",
    "        loss = criterion(outputs, targets)\n",
    "        loss.backward()\n",
    "        optimizer.step()\n",
    "    if (epoch+1) % 10 == 0:\n",
    "        print(f'Эпоха [{epoch+1}/{num_epochs}], Loss: {loss.item():.4f}')\n",
    "print(\"Обучение NeuralNetwork завершено\")"
   ]
  },
  {
   "cell_type": "code",
   "execution_count": 10,
   "id": "2b50bb81-6a75-4069-98fb-e1090308d06c",
   "metadata": {},
   "outputs": [
    {
     "name": "stdout",
     "output_type": "stream",
     "text": [
      "Эпоха [10/100], Loss: 0.3157\n",
      "Эпоха [20/100], Loss: 0.2264\n",
      "Эпоха [30/100], Loss: 0.1591\n",
      "Эпоха [40/100], Loss: 0.1351\n",
      "Эпоха [50/100], Loss: 0.1975\n",
      "Эпоха [60/100], Loss: 0.2757\n",
      "Эпоха [70/100], Loss: 0.1149\n",
      "Эпоха [80/100], Loss: 0.1311\n",
      "Эпоха [90/100], Loss: 0.1778\n",
      "Эпоха [100/100], Loss: 0.2112\n",
      "Обучение HardNeuralNetwork завершено\n"
     ]
    }
   ],
   "source": [
    "# Модель с 3+ скрытыми слоями\n",
    "class HardNeuralNetwork(nn.Module):\n",
    "    def __init__(self, input_size, hidden_sizes, output_size):\n",
    "        super(HardNeuralNetwork, self).__init__()\n",
    "        layers = []\n",
    "        prev_size = input_size\n",
    "        for h in hidden_sizes:\n",
    "            layers.append(nn.Linear(prev_size, h))\n",
    "            layers.append(nn.ReLU())\n",
    "            prev_size = h\n",
    "        layers.append(nn.Linear(prev_size, output_size))\n",
    "        self.model = nn.Sequential(*layers)\n",
    "    def forward(self, x):\n",
    "        return self.model(x)\n",
    "\n",
    "model_HardNeuralNetwork = HardNeuralNetwork(input_size, [64,32,16], output_size)\n",
    "optimizer = optim.Adam(model_HardNeuralNetwork.parameters(), lr=0.001)\n",
    "criterion = nn.MSELoss()\n",
    "\n",
    "for epoch in range(num_epochs):\n",
    "    model_HardNeuralNetwork.train()\n",
    "    for inputs, targets in train_dataloader:\n",
    "        optimizer.zero_grad()\n",
    "        outputs = model_HardNeuralNetwork(inputs)\n",
    "        loss = criterion(outputs, targets)\n",
    "        loss.backward()\n",
    "        optimizer.step()\n",
    "    if (epoch+1) % 10 == 0:\n",
    "        print(f'Эпоха [{epoch+1}/{num_epochs}], Loss: {loss.item():.4f}')\n",
    "print(\"Обучение HardNeuralNetwork завершено\")"
   ]
  },
  {
   "cell_type": "code",
   "execution_count": 11,
   "id": "a157fa87-06a1-46fe-b1ae-3b21897fde39",
   "metadata": {},
   "outputs": [],
   "source": [
    "# Функция для построения кривой обучения\n",
    "def train_model(model, criterion, optimizer, train_dataloader, test_dataloader, num_epochs):\n",
    "    train_losses = []\n",
    "    test_losses = []\n",
    "    for epoch in range(num_epochs):\n",
    "        model.train()\n",
    "        train_loss_sum = 0\n",
    "        for inputs, targets in train_dataloader:\n",
    "            optimizer.zero_grad()\n",
    "            outputs = model(inputs)\n",
    "            loss = criterion(outputs, targets)\n",
    "            loss.backward()\n",
    "            optimizer.step()\n",
    "            train_loss_sum += loss.item()*inputs.size(0)\n",
    "        train_loss = train_loss_sum / len(train_dataloader.dataset)\n",
    "        train_losses.append(train_loss)\n",
    "\n",
    "        model.eval()\n",
    "        test_loss_sum = 0\n",
    "        with torch.no_grad():\n",
    "            for inputs, targets in test_dataloader:\n",
    "                outputs = model(inputs)\n",
    "                loss = criterion(outputs, targets)\n",
    "                test_loss_sum += loss.item()*inputs.size(0)\n",
    "        test_loss = test_loss_sum / len(test_dataloader.dataset)\n",
    "        test_losses.append(test_loss)\n",
    "\n",
    "        if (epoch+1)%10==0:\n",
    "            print(f'Эпоха [{epoch+1}/{num_epochs}], Train Loss: {train_loss:.4f}, Test Loss: {test_loss:.4f}')\n",
    "\n",
    "    plt.plot(range(1, num_epochs+1), train_losses, label='Train Loss')\n",
    "    plt.plot(range(1, num_epochs+1), test_losses, label='Test Loss')\n",
    "    plt.xlabel('Epoch')\n",
    "    plt.ylabel('Loss')\n",
    "    plt.title('Learning Curve')\n",
    "    plt.legend()\n",
    "    plt.show()"
   ]
  },
  {
   "cell_type": "code",
   "execution_count": 12,
   "id": "2a914430-67d7-4b8c-8d9b-52b1598f5abe",
   "metadata": {},
   "outputs": [
    {
     "name": "stdout",
     "output_type": "stream",
     "text": [
      "Эпоха [10/50], Train Loss: 68.7513, Test Loss: 51.5080\n",
      "Эпоха [20/50], Train Loss: 2.2309, Test Loss: 1.8985\n",
      "Эпоха [30/50], Train Loss: 1.0446, Test Loss: 0.9290\n",
      "Эпоха [40/50], Train Loss: 0.5929, Test Loss: 0.5755\n",
      "Эпоха [50/50], Train Loss: 0.4108, Test Loss: 0.4335\n"
     ]
    },
    {
     "data": {
      "image/png": "[encoded data removed]",
      "text/plain": [
       "<Figure size 640x480 with 1 Axes>"
      ]
     },
     "metadata": {},
     "output_type": "display_data"
    }
   ],
   "source": [
    "# Обучим модель HardNeuralNetwork заново для построения кривой обучения\n",
    "model_plot = HardNeuralNetwork(input_size, [64,32,16], output_size)\n",
    "optimizer_plot = optim.Adam(model_plot.parameters(), lr=0.0001)\n",
    "criterion = nn.MSELoss()\n",
    "train_model(model_plot, criterion, optimizer_plot, train_dataloader, test_dataloader, num_epochs=50)"
   ]
  },
  {
   "cell_type": "code",
   "execution_count": 13,
   "id": "1c172305-0950-43cd-a3e3-cd8dfb2b7de3",
   "metadata": {},
   "outputs": [
    {
     "name": "stdout",
     "output_type": "stream",
     "text": [
      "MAE на train множестве SimpleNet: 2.4298\n",
      "MAE на test множестве SimpleNet: 2.4297\n",
      "MAE на train множестве NeuralNetwork: 0.4898\n",
      "MAE на test множестве NeuralNetwork: 0.5232\n",
      "MAE на train множестве HardNeuralNetwork: 0.3026\n",
      "MAE на test множестве HardNeuralNetwork: 0.3725\n"
     ]
    }
   ],
   "source": [
    "# Подсчет MAE\n",
    "def calculate_mae(model, data_loader):\n",
    "    model.eval()\n",
    "    mae = 0.0\n",
    "    with torch.no_grad():\n",
    "        for inputs, targets in data_loader:\n",
    "            outputs = model(inputs)\n",
    "            mae += torch.abs(outputs - targets).sum().item()\n",
    "    mae /= len(data_loader.dataset)\n",
    "    return mae\n",
    "\n",
    "train_mae_SimpleNet = calculate_mae(model_SimpleNet, train_dataloader)\n",
    "test_mae_SimpleNet = calculate_mae(model_SimpleNet, test_dataloader)\n",
    "\n",
    "print(f'MAE на train множестве SimpleNet: {train_mae_SimpleNet:.4f}')\n",
    "print(f'MAE на test множестве SimpleNet: {test_mae_SimpleNet:.4f}')\n",
    "\n",
    "train_mae_NeuralNetwork = calculate_mae(model_NeuralNetwork, train_dataloader)\n",
    "test_mae_NeuralNetwork = calculate_mae(model_NeuralNetwork, test_dataloader)\n",
    "\n",
    "print(f'MAE на train множестве NeuralNetwork: {train_mae_NeuralNetwork:.4f}')\n",
    "print(f'MAE на test множестве NeuralNetwork: {test_mae_NeuralNetwork:.4f}')\n",
    "\n",
    "train_mae_HardNeuralNetwork = calculate_mae(model_HardNeuralNetwork, train_dataloader)\n",
    "test_mae_HardNeuralNetwork = calculate_mae(model_HardNeuralNetwork, test_dataloader)\n",
    "\n",
    "print(f'MAE на train множестве HardNeuralNetwork: {train_mae_HardNeuralNetwork:.4f}')\n",
    "print(f'MAE на test множестве HardNeuralNetwork: {test_mae_HardNeuralNetwork:.4f}')"
   ]
  }
 ],
 "metadata": {
  "kernelspec": {
   "display_name": "Python 3 (ipykernel)",
   "language": "python",
   "name": "python3"
  },
  "language_info": {
   "codemirror_mode": {
    "name": "ipython",
    "version": 3
   },
   "file_extension": ".py",
   "mimetype": "text/x-python",
   "name": "python",
   "nbconvert_exporter": "python",
   "pygments_lexer": "ipython3",
   "version": "3.9.6"
  }
 },
 "nbformat": 4,
 "nbformat_minor": 5
}
